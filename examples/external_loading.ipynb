{
 "cells": [
  {
   "cell_type": "markdown",
   "metadata": {},
   "source": [
    "## Loading Features (with generic numpy loading function) & Parcellations (with ci_lib package)\n",
    "\n",
    "#### Imports"
   ]
  },
  {
   "cell_type": "code",
   "execution_count": 1,
   "metadata": {},
   "outputs": [],
   "source": [
    "# Loading \n",
    "from pathlib import Path\n",
    "from os import path\n",
    "import sys\n",
    "from os import listdir\n",
    "from os.path import isfile, join\n",
    "\n",
    "# Custom library from WIPAR\n",
    "sys.path.append(str((Path.cwd().parent))) #use local version of ci_lib during development\n",
    "import ci_lib\n",
    "from ci_lib.utils import snakemake_tools\n",
    "from ci_lib.features import Features, Means, Raws, Covariances, AutoCovariances, Moup, AutoCorrelations, FeatureType\n",
    "from ci_lib.plotting import graph_circle_plot, plot_glassbrain_bokeh, draw_neural_activity\n",
    "from ci_lib import DecompData\n",
    "from ci_lib.feature_selection import RFE_pipeline\n",
    "from ci_lib.networks import construct_network, construct_network_from_feat, add_bokeh_attributes\n",
    "\n",
    "# Processing\n",
    "import numpy as np\n",
    "import networkx as nx\n",
    "\n",
    "# Dict Formating\n",
    "import json     \n",
    "import collections\n",
    "import pandas as pd\n",
    "\n",
    "# Plotting\n",
    "import plotly.express as px\n",
    "from plotly.subplots import make_subplots\n",
    "import plotly.graph_objects as go\n",
    "import pickle\n"
   ]
  },
  {
   "cell_type": "code",
   "execution_count": 2,
   "metadata": {},
   "outputs": [],
   "source": [
    "#Helper functions\n",
    "def print_dict_keys(print_dict,level=0):\n",
    "    if type(print_dict) is dict:\n",
    "        print(f\"Level {level}:\",end=\" \")\n",
    "        print(list(print_dict.keys()))\n",
    "        print_dict_keys(next(iter(print_dict.values())),level+1)\n",
    "    else:\n",
    "        print(f\"Example shape of Value (feature): {print_dict.shape}\")\n",
    "\n",
    "def dict_to_shapes(dict_):\n",
    "    if type(dict_) is dict:\n",
    "        dict_ = dict_.copy()\n",
    "        for key,val in dict_.items():\n",
    "            dict_[key] = dict_to_shapes(val)\n",
    "        return dict_\n",
    "    else:\n",
    "        return len(dict_)\n",
    "\n",
    "#Used to get session name on last dim\n",
    "def get_key_last_dim(rec_dict):\n",
    "    #Look one level ahead\n",
    "    if type(rec_dict) is dict:\n",
    "        arbitary_next_dict = next(iter(rec_dict.values()))\n",
    "    else:\n",
    "        print(\"not a  dict\")\n",
    "        print(type(rec_dict))\n",
    "        return rec_dict\n",
    "\n",
    "    if type(arbitary_next_dict) is dict:\n",
    "        #If still dict continue recursion with next element\n",
    "        return get_key_last_dim(arbitary_next_dict)\n",
    "    else:\n",
    "        #Else return a key from current level\n",
    "        return list(rec_dict.keys())[0]  #TODO this will break if 'All' becomes first entry as it has no parcellation and is only the aggregation of the features from different sessions\n"
   ]
  },
  {
   "cell_type": "markdown",
   "metadata": {},
   "source": [
    "## Loading\n",
    "* Feature Values (exported, can be loaded using generic numpy loading function)\n",
    "* Parcellations to get labels of nodes (custom class, load with ci_lib package)"
   ]
  },
  {
   "cell_type": "code",
   "execution_count": 4,
   "metadata": {},
   "outputs": [
    {
     "name": "stdout",
     "output_type": "stream",
     "text": [
      "Loaded feature dict from: /home/kuehn/WIPAR/calcium-imaging-analysis/results/exports/feats_hashce9d60696cbe4f9c18f97cd3815bf40e.npy\n",
      "With the following structure:\n",
      "Level 0: ['LocaNMF', 'anatomical']\n",
      "Level 1: ['dFC', 'FC']\n",
      "Level 2: ['LR-LS', 'LR-RS', 'RR-LS', 'RR-RS']\n",
      "Level 3: ['All#64d69c09']\n",
      "Level 4: ['All#64d69c09']\n",
      "Example shape of Value (feature): (2549, 134, 138, 138)\n"
     ]
    }
   ],
   "source": [
    "import os\n",
    "''' \n",
    "Example of loading exports from WIPAR:\n",
    "    Load dictionary that aggregates Feature Values {Parcellation x Feature x Condition x  (Combined Sessions + Indivdual Sessions)}\n",
    "'''\n",
    "\n",
    "#Manually define export file for loading (otherwise most recent export is loaded)\n",
    "overwrite_file= \"feats_hashce9d60696cbe4f9c18f97cd3815bf40e.npy\"\n",
    "\n",
    "export_path = Path.cwd().parent/\"results/exports/\"\n",
    "\n",
    "if overwrite_file is not None:\n",
    "    #Loads manually defined export file\n",
    "    loading_path = export_path/overwrite_file\n",
    "else:\n",
    "    #Iterates all export files to find most recent\n",
    "    files = [export_path/f for f in listdir(export_path) if isfile(join(export_path, f))]\n",
    "    try:\n",
    "        loading_path = files[np.argmin([os.path.getmtime(f) for f in files])]\n",
    "\n",
    "    except ValueError as err:\n",
    "        if 'empty sequence' in str(err):\n",
    "            print(\"Export folder is empty, run the feature rule first\")\n",
    "            loading_path = None \n",
    "\n",
    "#Loading\n",
    "if loading_path is not None:   \n",
    "    with open(loading_path, 'rb') as file:\n",
    "            feat_dict = pickle.load(file)\n",
    "    #feat_dict = np.load(loading_path, allow_pickle=True).tolist()\n",
    "    \n",
    "\n",
    "    print(f\"Loaded feature dict from: {loading_path}\")\n",
    "    print(\"With the following structure:\")\n",
    "    print_dict_keys(feat_dict)\n",
    "\n",
    "\n",
    "\n"
   ]
  },
  {
   "cell_type": "code",
   "execution_count": 3,
   "metadata": {},
   "outputs": [
    {
     "ename": "NameError",
     "evalue": "name 'feat_dict' is not defined",
     "output_type": "error",
     "traceback": [
      "\u001b[0;31m---------------------------------------------------------------------------\u001b[0m",
      "\u001b[0;31mNameError\u001b[0m                                 Traceback (most recent call last)",
      "\u001b[1;32m/home/kuehn/WIPAR/calcium-imaging-analysis/examples/external_loading.ipynb Cell 6\u001b[0m in \u001b[0;36m7\n\u001b[1;32m      <a href='vscode-notebook-cell://ssh-remote%2Bnetsci-turing/home/kuehn/WIPAR/calcium-imaging-analysis/examples/external_loading.ipynb#W5sdnNjb2RlLXJlbW90ZQ%3D%3D?line=0'>1</a>\u001b[0m \u001b[39m''' \u001b[39;00m\n\u001b[1;32m      <a href='vscode-notebook-cell://ssh-remote%2Bnetsci-turing/home/kuehn/WIPAR/calcium-imaging-analysis/examples/external_loading.ipynb#W5sdnNjb2RlLXJlbW90ZQ%3D%3D?line=1'>2</a>\u001b[0m \u001b[39mExample of loading custom classes from WIPAR:\u001b[39;00m\n\u001b[1;32m      <a href='vscode-notebook-cell://ssh-remote%2Bnetsci-turing/home/kuehn/WIPAR/calcium-imaging-analysis/examples/external_loading.ipynb#W5sdnNjb2RlLXJlbW90ZQ%3D%3D?line=2'>3</a>\u001b[0m \u001b[39m    Loads the DecompData object for an arbirtary session for each parcellation\u001b[39;00m\n\u001b[1;32m      <a href='vscode-notebook-cell://ssh-remote%2Bnetsci-turing/home/kuehn/WIPAR/calcium-imaging-analysis/examples/external_loading.ipynb#W5sdnNjb2RlLXJlbW90ZQ%3D%3D?line=3'>4</a>\u001b[0m \u001b[39m'''\u001b[39;00m\n\u001b[1;32m      <a href='vscode-notebook-cell://ssh-remote%2Bnetsci-turing/home/kuehn/WIPAR/calcium-imaging-analysis/examples/external_loading.ipynb#W5sdnNjb2RlLXJlbW90ZQ%3D%3D?line=5'>6</a>\u001b[0m \u001b[39m#Get arbitrary session from last dim of feat_dict\u001b[39;00m\n\u001b[0;32m----> <a href='vscode-notebook-cell://ssh-remote%2Bnetsci-turing/home/kuehn/WIPAR/calcium-imaging-analysis/examples/external_loading.ipynb#W5sdnNjb2RlLXJlbW90ZQ%3D%3D?line=6'>7</a>\u001b[0m example_session \u001b[39m=\u001b[39m   Path(get_key_last_dim(feat_dict)) \n\u001b[1;32m      <a href='vscode-notebook-cell://ssh-remote%2Bnetsci-turing/home/kuehn/WIPAR/calcium-imaging-analysis/examples/external_loading.ipynb#W5sdnNjb2RlLXJlbW90ZQ%3D%3D?line=8'>9</a>\u001b[0m \u001b[39m#Get list of parcellations and features\u001b[39;00m\n\u001b[1;32m     <a href='vscode-notebook-cell://ssh-remote%2Bnetsci-turing/home/kuehn/WIPAR/calcium-imaging-analysis/examples/external_loading.ipynb#W5sdnNjb2RlLXJlbW90ZQ%3D%3D?line=9'>10</a>\u001b[0m parcellations \u001b[39m=\u001b[39m \u001b[39mlist\u001b[39m(feat_dict\u001b[39m.\u001b[39mkeys())\n",
      "\u001b[0;31mNameError\u001b[0m: name 'feat_dict' is not defined"
     ]
    }
   ],
   "source": [
    "''' \n",
    "Example of loading custom classes from WIPAR:\n",
    "    Loads the DecompData object for an arbirtary session for each parcellation\n",
    "'''\n",
    "\n",
    "#Get arbitrary session from last dim of feat_dict\n",
    "example_session =   Path(get_key_last_dim(feat_dict)) \n",
    "\n",
    "#Get list of parcellations and features\n",
    "parcellations = list(feat_dict.keys())\n",
    "\n",
    "#Get feature type for arbitray parcellation\n",
    "features = list(next(iter(feat_dict.values())).keys())\n",
    "\n",
    "#Get labels for each parcellation\n",
    "labels = {}\n",
    "parcellation = {}\n",
    "\n",
    "for parcellation_name in list(feat_dict.keys()):\n",
    "\n",
    "    #Load parcellation from arbitrary session to get labels\n",
    "    res_path = Path.cwd().parent /'results' /'data'\n",
    "    parcellation_path = Path(res_path/example_session/Path(parcellation_name)/\"data.h5\")\n",
    "    parcellation[parcellation_name]= DecompData.load(parcellation_path)\n",
    "    print(parcellation)\n",
    "    labels[parcellation_name] = parcellation[parcellation_name].spatial_labels\n",
    "\n",
    "\n",
    "print(labels)\n",
    "\n",
    "#Ignore that hashes do not match, I'll remove that as hashes of dicts/objects are just not deterministic in python"
   ]
  },
  {
   "cell_type": "code",
   "execution_count": null,
   "metadata": {},
   "outputs": [],
   "source": [
    "#Export for MOUSA BA\n",
    "print(dict_to_shapes(feat_dict))\n",
    "\n",
    "dict_MOUSA_stimulus = feat_dict[\"anatomical\"]['FC'].copy()\n",
    "\n",
    "new_dict = {}\n",
    "for cond, val in dict_MOUSA_stimulus.items():\n",
    "    #print(cond)\n",
    "    #print(next(iter(val.values())).shape)\n",
    "    if \"LR\" in cond:\n",
    "        key = \"leftResponse\" \n",
    "    elif \"RR\" in cond:\n",
    "        key = \"rightResponse\"\n",
    "\n",
    "    all = list(val.keys())[0]\n",
    "    new_dict[key] =  new_dict.get(key,None)\n",
    "    new_dict[key] = (val[all][all]) if new_dict[key] is None else np.concatenate((new_dict[key], (val[all][all]))) \n",
    "\n",
    "print(dict_to_shapes(new_dict))\n",
    "#print(dict_MOUSA_stimulus)\n",
    "#labels_MOUSA = labels[\"anatomical\"]\n",
    "\n",
    "label = \"choice_FC_anatomical\"\n",
    "path = export_path / \"BA_thesis\"\n",
    "#np.save(path / \"anatomical_labels\",labels_MOUSA)\n",
    "(path / f\"{label}.npy\").touch()\n",
    "np.save(path / f\"{label}.npy\",new_dict)\n",
    "\n",
    "#np.load(path / \"stimulus_FC.npy\",allow_pickle=True)[()]\n",
    "#np.load(path / \"anatomical_labels.npy\",allow_pickle=True)[()]"
   ]
  },
  {
   "cell_type": "code",
   "execution_count": 3,
   "metadata": {},
   "outputs": [
    {
     "ename": "NameError",
     "evalue": "name 'feat_dict' is not defined",
     "output_type": "error",
     "traceback": [
      "\u001b[0;31m---------------------------------------------------------------------------\u001b[0m",
      "\u001b[0;31mNameError\u001b[0m                                 Traceback (most recent call last)",
      "\u001b[1;32m/home/kuehn/WIPAR/calcium-imaging-analysis/examples/external_loading.ipynb Cell 7\u001b[0m in \u001b[0;36m2\n\u001b[1;32m      <a href='vscode-notebook-cell://ssh-remote%2Bnetsci-turing/home/kuehn/WIPAR/calcium-imaging-analysis/examples/external_loading.ipynb#W6sdnNjb2RlLXJlbW90ZQ%3D%3D?line=0'>1</a>\u001b[0m \u001b[39m#Export for MOUSA BA\u001b[39;00m\n\u001b[0;32m----> <a href='vscode-notebook-cell://ssh-remote%2Bnetsci-turing/home/kuehn/WIPAR/calcium-imaging-analysis/examples/external_loading.ipynb#W6sdnNjb2RlLXJlbW90ZQ%3D%3D?line=1'>2</a>\u001b[0m \u001b[39mprint\u001b[39m(dict_to_shapes(feat_dict))\n\u001b[1;32m      <a href='vscode-notebook-cell://ssh-remote%2Bnetsci-turing/home/kuehn/WIPAR/calcium-imaging-analysis/examples/external_loading.ipynb#W6sdnNjb2RlLXJlbW90ZQ%3D%3D?line=3'>4</a>\u001b[0m dict_MOUSA_stimulus \u001b[39m=\u001b[39m feat_dict[\u001b[39m\"\u001b[39m\u001b[39mLocaNMF\u001b[39m\u001b[39m\"\u001b[39m][\u001b[39m'\u001b[39m\u001b[39mdFC\u001b[39m\u001b[39m'\u001b[39m]\u001b[39m.\u001b[39mcopy()\n\u001b[1;32m      <a href='vscode-notebook-cell://ssh-remote%2Bnetsci-turing/home/kuehn/WIPAR/calcium-imaging-analysis/examples/external_loading.ipynb#W6sdnNjb2RlLXJlbW90ZQ%3D%3D?line=5'>6</a>\u001b[0m new_dict \u001b[39m=\u001b[39m \u001b[39mNone\u001b[39;00m\n",
      "\u001b[0;31mNameError\u001b[0m: name 'feat_dict' is not defined"
     ]
    }
   ],
   "source": [
    "#Export for MOUSA BA\n",
    "print(dict_to_shapes(feat_dict))\n",
    "\n",
    "dict_MOUSA_stimulus = feat_dict[\"LocaNMF\"]['dFC'].copy()\n",
    "\n",
    "new_dict = None\n",
    "for cond, val in dict_MOUSA_stimulus.items():\n",
    "    #print(cond)\n",
    "    #print(next(iter(val.values())).shape)\n",
    "    if \"LR\" in cond:\n",
    "        key = \"leftResponse\" \n",
    "    \n",
    "\n",
    "        all = list(val.keys())[0]\n",
    "        #new_dict[key] =  new_dict.get(key,None)\n",
    "        print(val[all][all])\n",
    "        new_dict= val[all][all] if new_dict is None else np.concatenate((new_dict, val[all][all]))\n",
    "\n",
    "print(dict_to_shapes(new_dict))\n",
    "#print(dict_MOUSA_stimulus)\n",
    "#labels_MOUSA = labels[\"anatomical\"]\n",
    "\n",
    "label = \"choice_dFC_LocaNMF_\"+key\n",
    "path = export_path / \"BA_thesis\"\n",
    "#np.save(path / \"anatomical_labels\",labels_MOUSA)\n",
    "(path / f\"{label}.npy\").touch()\n",
    "np.save(path / f\"{label}.npy\",new_dict)\n",
    "\n",
    "\n",
    "#np.load(path / \"stimulus_FC.npy\",allow_pickle=True)[()]\n",
    "#np.load(path / \"anatomical_labels.npy\",allow_pickle=True)[()]\n",
    "new_dict = None\n",
    "for cond, val in dict_MOUSA_stimulus.items():\n",
    "    #print(cond)\n",
    "    #print(next(iter(val.values())).shape)\n",
    "    if \"RR\" in cond:\n",
    "        key = \"rightResponse\" \n",
    "    \n",
    "\n",
    "        all = list(val.keys())[0]\n",
    "        #new_dict[key] =  new_dict.get(key,None)\n",
    "        #new_dict[key] = (val[all][all]) if new_dict[key] is None else np.concatenate((new_dict[key], (val[all][all]))) \n",
    "        new_dict= val[all][all] if new_dict is None else np.concatenate((new_dict, val[all][all]))\n",
    "\n",
    "print(dict_to_shapes(new_dict))\n",
    "#print(dict_MOUSA_stimulus)\n",
    "#labels_MOUSA = labels[\"anatomical\"]\n",
    "\n",
    "label = \"choice_dFC_LocaNMF_\"+key\n",
    "path = export_path / \"BA_thesis\"\n",
    "#np.save(path / \"anatomical_labels\",labels_MOUSA)\n",
    "(path / f\"{label}.npy\").touch()\n",
    "np.save(path / f\"{label}.npy\",new_dict)\n",
    "\n",
    "#elif \"RR\" in cond:\n",
    "#        key = \"rightResponse\""
   ]
  },
  {
   "cell_type": "code",
   "execution_count": null,
   "metadata": {},
   "outputs": [
    {
     "name": "stdout",
     "output_type": "stream",
     "text": [
      "dict_keys(['leftResponse', 'rightResponse'])\n",
      "(3843, 1, 64, 64)\n"
     ]
    }
   ],
   "source": [
    "path = Path.cwd().parent/\"results/exports/BA_thesis\" #My local path of the file\n",
    "choice_FC_anatomical = np.load(path / \"choice_FC_fulltrial.npy\",allow_pickle=True) [()] #dict that contains different conditions\n",
    "\n",
    "print(choice_FC_anatomical.keys()) #the different conditions\n",
    "print(choice_FC_anatomical[\"rightResponse\"].shape) # the array containing all FCs for different trials from that condition with the dimension trials x timepoints x nodes x nodes  = trials x timepoints x adjacent matrix"
   ]
  }
 ],
 "metadata": {
  "kernelspec": {
   "display_name": "Python 3.10.6 ('jupyter_WIPAR')",
   "language": "python",
   "name": "python3"
  },
  "language_info": {
   "codemirror_mode": {
    "name": "ipython",
    "version": 3
   },
   "file_extension": ".py",
   "mimetype": "text/x-python",
   "name": "python",
   "nbconvert_exporter": "python",
   "pygments_lexer": "ipython3",
   "version": "3.10.6"
  },
  "orig_nbformat": 4,
  "vscode": {
   "interpreter": {
    "hash": "b9c94aa22aad9bb60d64f3bf31210506db161509c8019cb8ad696fa541bc7bed"
   }
  }
 },
 "nbformat": 4,
 "nbformat_minor": 2
}
